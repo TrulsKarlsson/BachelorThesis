{
 "cells": [
  {
   "cell_type": "code",
   "execution_count": 5,
   "id": "34f780d7-1656-4bbc-ace7-b9a6ebd077d8",
   "metadata": {},
   "outputs": [
    {
     "name": "stdout",
     "output_type": "stream",
     "text": [
      "[{'age': 27, 'region': {'x': 409, 'y': 1022, 'w': 1550, 'h': 1550, 'left_eye': (857, 1615), 'right_eye': (1460, 1623)}, 'face_confidence': 0.95}]\n"
     ]
    }
   ],
   "source": [
    "import threading\n",
    "from deepface import DeepFace\n",
    "\n",
    "result = DeepFace.analyze(img_path = \"own-pictures/testBildTruls.jpeg\", actions = ['age'])\n",
    "print(result)"
   ]
  },
  {
   "cell_type": "code",
   "execution_count": 2,
   "id": "b7590cff-5d87-493d-8fc3-399a9499dd61",
   "metadata": {},
   "outputs": [
    {
     "name": "stdout",
     "output_type": "stream",
     "text": [
      "Error: list indices must be integers or slices, not str\n",
      "Failed to predict age.\n"
     ]
    }
   ],
   "source": [
    "from deepface import DeepFace\n",
    "\n",
    "def get_age_from_image(image_path):\n",
    "    try:\n",
    "        # Use DeepFace to analyze the image and predict the age\n",
    "        result = DeepFace.analyze(img_path=image_path, actions=['age'])\n",
    "\n",
    "        # Extract the age prediction from the result\n",
    "        age = result['age']\n",
    "\n",
    "        return age\n",
    "    except Exception as e:\n",
    "        print(\"Error:\", str(e))\n",
    "        return None\n",
    "\n",
    "if __name__ == \"__main__\":\n",
    "    # Provide the path to the input image\n",
    "    image_path = \"own-pictures/testBildTruls.jpeg\"\n",
    "\n",
    "    # Get the age prediction from the image\n",
    "    age = get_age_from_image(image_path)\n",
    "\n",
    "    # Print the predicted age\n",
    "    if age is not None:\n",
    "        print(\"Predicted age:\", age)\n",
    "    else:\n",
    "        print(\"Failed to predict age.\")"
   ]
  },
  {
   "cell_type": "code",
   "execution_count": null,
   "id": "be85b239-2e56-4bc3-be5c-f444181db017",
   "metadata": {},
   "outputs": [],
   "source": []
  }
 ],
 "metadata": {
  "kernelspec": {
   "display_name": "Python 3 (ipykernel)",
   "language": "python",
   "name": "python3"
  },
  "language_info": {
   "codemirror_mode": {
    "name": "ipython",
    "version": 3
   },
   "file_extension": ".py",
   "mimetype": "text/x-python",
   "name": "python",
   "nbconvert_exporter": "python",
   "pygments_lexer": "ipython3",
   "version": "3.11.2"
  }
 },
 "nbformat": 4,
 "nbformat_minor": 5
}
