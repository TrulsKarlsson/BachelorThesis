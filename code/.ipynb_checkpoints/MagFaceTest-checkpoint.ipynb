{
 "cells": [
  {
   "cell_type": "code",
   "execution_count": 2,
   "id": "816c86f4-aa4a-433f-8d6b-fd35e65536ae",
   "metadata": {},
   "outputs": [],
   "source": [
    "import numpy as np\n",
    "import cv2\n",
    "from matplotlib import pyplot as plt\n",
    "import seaborn as sns\n",
    "sns.set(style=\"white\") \n",
    "%matplotlib inline"
   ]
  },
  {
   "cell_type": "code",
   "execution_count": null,
   "id": "4b822cea-8daf-40a0-a00d-69d88af9696b",
   "metadata": {},
   "outputs": [],
   "source": []
  },
  {
   "cell_type": "code",
   "execution_count": 3,
   "id": "979cea73-4059-4c14-869f-87f4c9fab9b4",
   "metadata": {},
   "outputs": [],
   "source": [
    "import os"
   ]
  },
  {
   "cell_type": "code",
   "execution_count": 4,
   "id": "60e6935b-5c4f-4e23-94c3-9534e08e881b",
   "metadata": {},
   "outputs": [],
   "source": [
    "#from MagFace.inference import gen_feat --inf_list toy_imgs/img.list --feat_list toy_imgs/feat.list --resume magface_epoch_00025.pth"
   ]
  },
  {
   "cell_type": "code",
   "execution_count": 8,
   "id": "4747f336-31ab-4376-9d1a-36ca1bbf9b7c",
   "metadata": {},
   "outputs": [
    {
     "name": "stdout",
     "output_type": "stream",
     "text": [
      "Current directory: /Users/trulskarlsson/Exjobb/BachelorThesis/code\n"
     ]
    }
   ],
   "source": [
    "current_directory = os.getcwd()\n",
    "print(\"Current directory:\", current_directory)"
   ]
  },
  {
   "cell_type": "code",
   "execution_count": 13,
   "id": "829a46d5-1a1b-4437-b9b4-3207c9395841",
   "metadata": {},
   "outputs": [],
   "source": [
    "os.chdir(\"/Users/trulskarlsson/Exjobb/BachelorThesis/code/MagFace/inference\")"
   ]
  },
  {
   "cell_type": "code",
   "execution_count": 15,
   "id": "832998eb-4b19-4cee-87c9-38944474274a",
   "metadata": {},
   "outputs": [
    {
     "name": "stdout",
     "output_type": "stream",
     "text": [
      "\u001b[32m=> parse the args ...\u001b[0m\n",
      "\u001b[32m=> parse the args ...\u001b[0m\n",
      "{'arch': 'iresnet100',\n",
      " 'batch_size': 256,\n",
      " 'cpu_mode': True,\n",
      " 'dist': 1,\n",
      " 'embedding_size': 512,\n",
      " 'feat_list': 'toy_imgs/featTest.list',\n",
      " 'inf_list': 'toy_imgs/img.list',\n",
      " 'print_freq': 100,\n",
      " 'resume': 'magface_epoch_00025.pth',\n",
      " 'workers': 4}\n",
      "\u001b[32m=> torch version : 2.2.2\u001b[0m\n",
      "\u001b[32m=> ngpus : 0\u001b[0m\n",
      "\u001b[32m=> modeling the network ...\u001b[0m\n",
      "=> loading pth from magface_epoch_00025.pth ...\u001b[0m\n",
      "\u001b[32m=> building the dataloader ...\u001b[0m\n",
      "=> preparing dataset for inference ...\u001b[0m\n",
      "\u001b[32m=> starting inference engine ...\u001b[0m\n",
      "=> embedding features will be saved into toy_imgs/featTest.list\u001b[0m\n"
     ]
    },
    {
     "name": "stderr",
     "output_type": "stream",
     "text": [
      "2024-05-06 12:59:14.453 | INFO     | utils.utils:display:55 - Extract Features: [0/1]\tTime  3.218 ( 3.218)\tData  2.254 ( 2.254)\n"
     ]
    },
    {
     "name": "stdout",
     "output_type": "stream",
     "text": [
      "\u001b[32m=> parse the args ...\u001b[0m\n",
      "\u001b[32m=> parse the args ...\u001b[0m\n",
      "\u001b[32m=> parse the args ...\u001b[0m\n",
      "\u001b[32m=> parse the args ...\u001b[0m\n"
     ]
    },
    {
     "name": "stderr",
     "output_type": "stream",
     "text": [
      "\n",
      "real\t0m14.050s\n",
      "user\t0m22.171s\n",
      "sys\t0m3.968s\n"
     ]
    },
    {
     "data": {
      "text/plain": [
       "0"
      ]
     },
     "execution_count": 15,
     "metadata": {},
     "output_type": "execute_result"
    }
   ],
   "source": [
    "os.system(\"time python gen_feat.py --inf_list toy_imgs/img.list --feat_list toy_imgs/featTest.list --resume magface_epoch_00025.pth --cpu-mode\")"
   ]
  },
  {
   "cell_type": "code",
   "execution_count": 21,
   "id": "6afbda4b-413c-4380-b056-d9efb5c1732d",
   "metadata": {},
   "outputs": [
    {
     "name": "stdout",
     "output_type": "stream",
     "text": [
      "MagFace/\n",
      "    LICENSE\n",
      "    utils/\n",
      "        cv2_funcs.py\n",
      "        cv2_trans.py\n",
      "        __pycache__/\n",
      "            utils.cpython-311.pyc\n",
      "        utils.py\n",
      "        .ipynb_checkpoints/\n",
      "            utils-checkpoint.py\n",
      "    models/\n",
      "        magface.py\n",
      "        __pycache__/\n",
      "            iresnet.cpython-311.pyc\n",
      "        iresnet.py\n",
      "        magface_dist.py\n",
      "        parallel_maglinear.py\n",
      "        parallel_magloss.py\n",
      "    README.md\n",
      "    .gitignore\n",
      "    inference/\n",
      "        __pycache__/\n",
      "            gen_feat.cpython-311.pyc\n",
      "            network_inf.cpython-311.pyc\n",
      "            __init__.cpython-311.pyc\n",
      "        examples.ipynb\n",
      "        network_inf.py\n",
      "        .ipynb_checkpoints/\n",
      "            gen_feat-checkpoint.py\n",
      "            examples-checkpoint.ipynb\n",
      "            network_inf-checkpoint.py\n",
      "        gen_feat.py\n",
      "        toy_imgs/\n",
      "            8.jpg\n",
      "            9.jpg\n",
      "            feat.list\n",
      "            img.list\n",
      "            4.jpg\n",
      "            .ipynb_checkpoints/\n",
      "                img-checkpoint.list\n",
      "                5-checkpoint.jpg\n",
      "            5.jpg\n",
      "            7.jpg\n",
      "            6.jpg\n",
      "            2.jpg\n",
      "            3.jpg\n",
      "            1.jpg\n",
      "            0.jpg\n",
      "    eval/\n",
      "        eval_recognition/\n",
      "            eval_ijb.sh\n",
      "            eval.sh\n",
      "            eval_1v1.py\n",
      "            eval_ijb.py\n",
      "        eval_cluster/\n",
      "            eval_cluster.py\n",
      "        eval_quality/\n",
      "            eval_quality.sh\n",
      "            eval_quality.py\n",
      "    run/\n",
      "        kill.sh\n",
      "        run_dist_cos.sh\n",
      "        run.sh\n",
      "        trainer_dist.py\n",
      "        run_dist.sh\n",
      "        trainer.py\n",
      "    .git/\n",
      "        config\n",
      "        objects/\n",
      "            pack/\n",
      "                pack-ad4e04455cf98bbe867ac7e2d26c1770f848bb54.pack\n",
      "                pack-ad4e04455cf98bbe867ac7e2d26c1770f848bb54.idx\n",
      "                pack-ad4e04455cf98bbe867ac7e2d26c1770f848bb54.rev\n",
      "            info/\n",
      "        HEAD\n",
      "        info/\n",
      "            exclude\n",
      "        logs/\n",
      "            HEAD\n",
      "            refs/\n",
      "                heads/\n",
      "                    main\n",
      "                remotes/\n",
      "                    origin/\n",
      "                        HEAD\n",
      "        description\n",
      "        hooks/\n",
      "            commit-msg.sample\n",
      "            pre-rebase.sample\n",
      "            sendemail-validate.sample\n",
      "            pre-commit.sample\n",
      "            applypatch-msg.sample\n",
      "            fsmonitor-watchman.sample\n",
      "            pre-receive.sample\n",
      "            prepare-commit-msg.sample\n",
      "            post-update.sample\n",
      "            pre-merge-commit.sample\n",
      "            pre-applypatch.sample\n",
      "            pre-push.sample\n",
      "            update.sample\n",
      "            push-to-checkout.sample\n",
      "        refs/\n",
      "            heads/\n",
      "                main\n",
      "            tags/\n",
      "            remotes/\n",
      "                origin/\n",
      "                    HEAD\n",
      "        index\n",
      "        packed-refs\n",
      "    raw/\n",
      "        magface.png\n",
      "        requirements.txt\n",
      "    dataloader/\n",
      "        dataloader_dist.py\n",
      "        dataloader.py\n"
     ]
    }
   ],
   "source": [
    "def print_folder_structure(folder_path, indent=\"\"):\n",
    "    \"\"\"\n",
    "    Recursively prints the folder structure starting from the specified folder.\n",
    "    \"\"\"\n",
    "    # Print the current folder\n",
    "    print(indent + os.path.basename(folder_path) + \"/\")\n",
    "\n",
    "    # List all files and subdirectories in the current folder\n",
    "    files_and_folders = os.listdir(folder_path)\n",
    "\n",
    "    # Iterate over each file/folder\n",
    "    for item in files_and_folders:\n",
    "        item_path = os.path.join(folder_path, item)\n",
    "\n",
    "        # If it's a directory, recursively print its structure\n",
    "        if os.path.isdir(item_path):\n",
    "            print_folder_structure(item_path, indent + \"    \")\n",
    "        # If it's a file, print its name\n",
    "        else:\n",
    "            print(indent + \"    \" + item)\n",
    "\n",
    "# Replace '/path/to/your/project' with the actual path to your project folder\n",
    "project_folder_path = \"/Users/trulskarlsson/Exjobb/BachelorThesis/code/MagFace\"\n",
    "\n",
    "# Call the function to print the folder structure\n",
    "print_folder_structure(project_folder_path)"
   ]
  },
  {
   "cell_type": "code",
   "execution_count": null,
   "id": "7df94aa2-fcad-4081-9328-0f58339f6231",
   "metadata": {},
   "outputs": [],
   "source": []
  }
 ],
 "metadata": {
  "kernelspec": {
   "display_name": "Python 3 (ipykernel)",
   "language": "python",
   "name": "python3"
  },
  "language_info": {
   "codemirror_mode": {
    "name": "ipython",
    "version": 3
   },
   "file_extension": ".py",
   "mimetype": "text/x-python",
   "name": "python",
   "nbconvert_exporter": "python",
   "pygments_lexer": "ipython3",
   "version": "3.11.2"
  }
 },
 "nbformat": 4,
 "nbformat_minor": 5
}
