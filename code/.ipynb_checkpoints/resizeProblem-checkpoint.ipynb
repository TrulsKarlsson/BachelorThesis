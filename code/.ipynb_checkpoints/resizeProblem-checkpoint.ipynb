{
 "cells": [
  {
   "cell_type": "code",
   "execution_count": 13,
   "id": "efd97b41-a378-4b44-9f7f-644776a09048",
   "metadata": {},
   "outputs": [
    {
     "name": "stdout",
     "output_type": "stream",
     "text": [
      "erm what the sigma\n"
     ]
    }
   ],
   "source": [
    "import cv2\n",
    "import matplotlib.pyplot as plt\n",
    "image = cv2.imread(\"own-pictures/testBildTruls.jpeg\")\n",
    "\n",
    "if image is None:\n",
    "    print(\"None\")\n",
    "else:\n",
    "    print(\"erm what the sigma\")\n",
    "\n",
    "#image = cv2.resize(image, (100, 100))\n",
    "#image_resize = cv2.resize(image, (112, 112))\n",
    "#\n",
    "#plt.figure(figsize = (10,10))\n",
    "#plt.imshow(image)\n",
    "#plt.show()"
   ]
  }
 ],
 "metadata": {
  "kernelspec": {
   "display_name": "Python 3 (ipykernel)",
   "language": "python",
   "name": "python3"
  },
  "language_info": {
   "codemirror_mode": {
    "name": "ipython",
    "version": 3
   },
   "file_extension": ".py",
   "mimetype": "text/x-python",
   "name": "python",
   "nbconvert_exporter": "python",
   "pygments_lexer": "ipython3",
   "version": "3.11.2"
  }
 },
 "nbformat": 4,
 "nbformat_minor": 5
}
