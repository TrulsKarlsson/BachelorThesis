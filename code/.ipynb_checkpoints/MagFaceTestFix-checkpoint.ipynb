{
 "cells": [
  {
   "cell_type": "code",
   "execution_count": null,
   "id": "ecc919e5-78dc-46a9-9cc5-d576c1e77f78",
   "metadata": {},
   "outputs": [],
   "source": [
    "image_path = \"/Users/trulskarlsson/Exjobb/BachelorThesis/code/MagFace/inference/MagFaceImages/CurrentFace.jpg\"\n",
    "    cv2.imwrite(image_path, image_resize[:, : , ::-1])\n",
    "\n",
    "# Skriv in img path i img.list\n",
    "    list_file_path = \"/Users/trulskarlsson/Exjobb/BachelorThesis/code/MagFace/inference/MagFaceImages/img.list\"\n",
    "    with open(list_file_path, \"w\") as file:\n",
    "        file.write(image_path + \"\\n\")"
   ]
  }
 ],
 "metadata": {
  "kernelspec": {
   "display_name": "Python 3 (ipykernel)",
   "language": "python",
   "name": "python3"
  },
  "language_info": {
   "codemirror_mode": {
    "name": "ipython",
    "version": 3
   },
   "file_extension": ".py",
   "mimetype": "text/x-python",
   "name": "python",
   "nbconvert_exporter": "python",
   "pygments_lexer": "ipython3",
   "version": "3.11.2"
  }
 },
 "nbformat": 4,
 "nbformat_minor": 5
}
